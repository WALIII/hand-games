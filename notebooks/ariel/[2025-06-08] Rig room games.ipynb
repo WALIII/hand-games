{
 "cells": [
  {
   "cell_type": "code",
   "execution_count": 1,
   "id": "20ed9db6",
   "metadata": {},
   "outputs": [
    {
     "name": "stdout",
     "output_type": "stream",
     "text": [
      "pygame 2.3.0 (SDL 2.24.2, Python 3.10.10)\n",
      "Hello from the pygame community. https://www.pygame.org/contribute.html\n"
     ]
    }
   ],
   "source": [
    "import pygame\n",
    "import random\n",
    "\n",
    "# Initialize Pygame\n",
    "pygame.init()\n",
    "\n",
    "# Screen settings\n",
    "WIDTH, HEIGHT = 800, 600\n",
    "screen = pygame.display.set_mode((WIDTH, HEIGHT))\n",
    "pygame.display.set_caption(\"Drag the Green Circles into the Black Square\")\n",
    "\n",
    "# Colors\n",
    "WHITE = (255, 255, 255)\n",
    "GREEN = (0, 255, 0)\n",
    "BLACK = (0, 0, 0)\n",
    "\n",
    "# Fonts\n",
    "font = pygame.font.SysFont(None, 36)\n",
    "\n",
    "# Game objects\n",
    "NUM_CIRCLES = 10\n",
    "CIRCLE_RADIUS = 15\n",
    "SQUARE_SIZE = 80\n",
    "SQUARE_POS = (WIDTH - SQUARE_SIZE - 50, HEIGHT//2 - SQUARE_SIZE//2)\n",
    "\n",
    "# Generate random circle positions\n",
    "circles = []\n",
    "for _ in range(NUM_CIRCLES):\n",
    "    x = random.randint(CIRCLE_RADIUS, WIDTH - CIRCLE_RADIUS - SQUARE_SIZE - 100)\n",
    "    y = random.randint(CIRCLE_RADIUS, HEIGHT - CIRCLE_RADIUS)\n",
    "    circles.append({'pos': [x, y], 'dragging': False})\n",
    "\n",
    "# Score\n",
    "score = 0\n",
    "\n",
    "# Main loop\n",
    "running = True\n",
    "clock = pygame.time.Clock()\n",
    "\n",
    "while running:\n",
    "    screen.fill(WHITE)\n",
    "\n",
    "    # Draw black square\n",
    "    pygame.draw.rect(screen, BLACK, (*SQUARE_POS, SQUARE_SIZE, SQUARE_SIZE))\n",
    "\n",
    "    # Draw score\n",
    "    score_text = font.render(f\"Score: {score}\", True, BLACK)\n",
    "    screen.blit(score_text, (WIDTH - 180, 20))\n",
    "\n",
    "    # Event handling\n",
    "    for event in pygame.event.get():\n",
    "        if event.type == pygame.QUIT:\n",
    "            running = False\n",
    "        elif event.type == pygame.MOUSEBUTTONDOWN:\n",
    "            for circle in circles:\n",
    "                cx, cy = circle['pos']\n",
    "                if (pygame.math.Vector2(pygame.mouse.get_pos()) - pygame.math.Vector2(cx, cy)).length() <= CIRCLE_RADIUS:\n",
    "                    circle['dragging'] = True\n",
    "        elif event.type == pygame.MOUSEBUTTONUP:\n",
    "            for circle in circles:\n",
    "                if circle['dragging']:\n",
    "                    circle['dragging'] = False\n",
    "                    cx, cy = circle['pos']\n",
    "                    sx, sy = SQUARE_POS\n",
    "                    if sx <= cx <= sx + SQUARE_SIZE and sy <= cy <= sy + SQUARE_SIZE:\n",
    "                        circles.remove(circle)\n",
    "                        score += 1\n",
    "        elif event.type == pygame.MOUSEMOTION:\n",
    "            for circle in circles:\n",
    "                if circle['dragging']:\n",
    "                    circle['pos'] = list(event.pos)\n",
    "\n",
    "    # Draw circles\n",
    "    for circle in circles:\n",
    "        pygame.draw.circle(screen, GREEN, circle['pos'], CIRCLE_RADIUS)\n",
    "\n",
    "    pygame.display.flip()\n",
    "    clock.tick(60)\n",
    "\n",
    "pygame.quit()\n"
   ]
  },
  {
   "cell_type": "code",
   "execution_count": null,
   "id": "4a8ab962",
   "metadata": {},
   "outputs": [
    {
     "ename": "",
     "evalue": "",
     "output_type": "error",
     "traceback": [
      "\u001b[1;31mThe Kernel crashed while executing code in the current cell or a previous cell. \n",
      "\u001b[1;31mPlease review the code in the cell(s) to identify a possible cause of the failure. \n",
      "\u001b[1;31mClick <a href='https://aka.ms/vscodeJupyterKernelCrash'>here</a> for more info. \n",
      "\u001b[1;31mView Jupyter <a href='command:jupyter.viewOutput'>log</a> for further details."
     ]
    }
   ],
   "source": [
    "# Game updates\n",
    "\n",
    "# use mediapipe to speer a 'gripper' from the right and left hand\n",
    "# some circles are larger and harder to drag\n",
    "# click first to reval the circle size, \n",
    "# the number of clicks is listed on the circle \n",
    "\n",
    "# the game instructs how to pinch the circle to drag it\n",
    "# haptic feedback when the circle is successfully placed in the square\n",
    "# some circles need two hands to drag\n",
    "\n",
    "\n"
   ]
  },
  {
   "cell_type": "code",
   "execution_count": null,
   "id": "dfd693b5",
   "metadata": {},
   "outputs": [],
   "source": []
  }
 ],
 "metadata": {
  "kernelspec": {
   "display_name": ".venv-omgpy",
   "language": "python",
   "name": "python3"
  },
  "language_info": {
   "codemirror_mode": {
    "name": "ipython",
    "version": 3
   },
   "file_extension": ".py",
   "mimetype": "text/x-python",
   "name": "python",
   "nbconvert_exporter": "python",
   "pygments_lexer": "ipython3",
   "version": "3.10.10"
  }
 },
 "nbformat": 4,
 "nbformat_minor": 5
}
